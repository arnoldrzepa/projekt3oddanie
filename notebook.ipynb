{
 "cells": [
  {
   "cell_type": "markdown",
   "id": "4533e7b8-40b8-4118-974a-94e00c65628d",
   "metadata": {},
   "source": [
    "<h1> Projekt 3 - Artur Rzepczyński, Michał Proc </h1>\n"
   ]
  },
  {
   "cell_type": "markdown",
   "id": "a3bc2b85-4dbf-42c2-9b1f-c969c32257b6",
   "metadata": {},
   "source": [
    "1. Wizualizacja sygnału audio"
   ]
  },
  {
   "cell_type": "code",
   "execution_count": 2,
   "id": "b06d0487-edfd-4a94-b83b-576093042ae0",
   "metadata": {},
   "outputs": [
    {
     "ename": "ImportError",
     "evalue": "cannot import name 'function_wave' from 'scikit_build_example._core' (C:\\Users\\Artur\\miniconda3\\Lib\\site-packages\\scikit_build_example\\_core.cp312-win_amd64.pyd)",
     "output_type": "error",
     "traceback": [
      "\u001b[1;31m---------------------------------------------------------------------------\u001b[0m",
      "\u001b[1;31mImportError\u001b[0m                               Traceback (most recent call last)",
      "Cell \u001b[1;32mIn[2], line 1\u001b[0m\n\u001b[1;32m----> 1\u001b[0m \u001b[38;5;28;01mimport\u001b[39;00m \u001b[38;5;21;01mscikit_build_example\u001b[39;00m \u001b[38;5;28;01mas\u001b[39;00m \u001b[38;5;21;01mbib\u001b[39;00m\n\u001b[0;32m      2\u001b[0m \u001b[38;5;28;01mimport\u001b[39;00m \u001b[38;5;21;01mnumpy\u001b[39;00m \u001b[38;5;28;01mas\u001b[39;00m \u001b[38;5;21;01mnp\u001b[39;00m\n\u001b[0;32m      4\u001b[0m bib\u001b[38;5;241m.\u001b[39maudio(\u001b[38;5;124m\"\u001b[39m\u001b[38;5;124mG:/StudiaAcIR/pythonProject/test_short.wav\u001b[39m\u001b[38;5;124m\"\u001b[39m)\n",
      "File \u001b[1;32m~\\miniconda3\\Lib\\site-packages\\scikit_build_example\\__init__.py:3\u001b[0m\n\u001b[0;32m      1\u001b[0m \u001b[38;5;28;01mfrom\u001b[39;00m \u001b[38;5;21;01m__future__\u001b[39;00m \u001b[38;5;28;01mimport\u001b[39;00m annotations\n\u001b[1;32m----> 3\u001b[0m \u001b[38;5;28;01mfrom\u001b[39;00m \u001b[38;5;21;01m.\u001b[39;00m\u001b[38;5;21;01m_core\u001b[39;00m \u001b[38;5;28;01mimport\u001b[39;00m \u001b[38;5;18m__doc__\u001b[39m, __version__, audio, process, square_wave, sin_wave, cos_wave, saw_wave, show_plot, generate_wave, wave_threshold, function_wave\n\u001b[0;32m      5\u001b[0m __all__ \u001b[38;5;241m=\u001b[39m [\u001b[38;5;124m\"\u001b[39m\u001b[38;5;124m__doc__\u001b[39m\u001b[38;5;124m\"\u001b[39m, \u001b[38;5;124m\"\u001b[39m\u001b[38;5;124m__version__\u001b[39m\u001b[38;5;124m\"\u001b[39m, \u001b[38;5;124m\"\u001b[39m\u001b[38;5;124maudio\u001b[39m\u001b[38;5;124m\"\u001b[39m, \u001b[38;5;124m\"\u001b[39m\u001b[38;5;124mprocess\u001b[39m\u001b[38;5;124m\"\u001b[39m, \u001b[38;5;124m\"\u001b[39m\u001b[38;5;124msquare_wave\u001b[39m\u001b[38;5;124m\"\u001b[39m, \u001b[38;5;124m\"\u001b[39m\u001b[38;5;124msin_wave\u001b[39m\u001b[38;5;124m\"\u001b[39m, \u001b[38;5;124m\"\u001b[39m\u001b[38;5;124mcos_wave\u001b[39m\u001b[38;5;124m\"\u001b[39m, \u001b[38;5;124m\"\u001b[39m\u001b[38;5;124msaw_wave\u001b[39m\u001b[38;5;124m\"\u001b[39m, \u001b[38;5;124m\"\u001b[39m\u001b[38;5;124mshow_plot\u001b[39m\u001b[38;5;124m\"\u001b[39m, \u001b[38;5;124m\"\u001b[39m\u001b[38;5;124mgenerate_wave\u001b[39m\u001b[38;5;124m\"\u001b[39m, \u001b[38;5;124m\"\u001b[39m\u001b[38;5;124mwave_threshold\u001b[39m\u001b[38;5;124m\"\u001b[39m, \u001b[38;5;124m\"\u001b[39m\u001b[38;5;124mfunction_wave\u001b[39m\u001b[38;5;124m\"\u001b[39m]\n",
      "\u001b[1;31mImportError\u001b[0m: cannot import name 'function_wave' from 'scikit_build_example._core' (C:\\Users\\Artur\\miniconda3\\Lib\\site-packages\\scikit_build_example\\_core.cp312-win_amd64.pyd)"
     ]
    }
   ],
   "source": [
    "import scikit_build_example as bib\n",
    "import numpy as np\n",
    "\n",
    "bib.clear()\n",
    "\n",
    "bib.audio(\"G:/StudiaAcIR/pythonProject/test_short.wav\")\n",
    "# audiosygnal.png"
   ]
  },
  {
   "cell_type": "markdown",
   "id": "dcd542c5-9ed0-4151-801e-9fd4536a89f7",
   "metadata": {},
   "source": [
    "2. Filtrowanie obrazów (wymagany format .ppn)"
   ]
  },
  {
   "cell_type": "code",
   "execution_count": 13,
   "id": "ac635836-459a-4f68-9292-e39a2da1a9dc",
   "metadata": {},
   "outputs": [],
   "source": [
    "import scikit_build_example as bib\n",
    "import numpy as np\n",
    "\n",
    "kernel = np.array([ #filtr\n",
    "    [0, -1, 0],\n",
    "    [-1, 5, -1],\n",
    "    [0, -1, 0],\n",
    "], dtype=np.float32) \n",
    "\n",
    "kernel_list = kernel.tolist()\n",
    "\n",
    "bib.process(\"G:/StudiaAcIR/pythonProject/skylight.ppm\", \"G:/StudiaAcIR/pythonProject/processed.ppm\", kernel_list) # processed.ppm/processed.jpg"
   ]
  },
  {
   "cell_type": "markdown",
   "id": "7c67a3a9-2b0a-403e-9cda-f939bee6fa6d",
   "metadata": {},
   "source": [
    "3. Generowanie funkcji sinus (amplituda, próbkowanie, czas trwania, częstotliwość)"
   ]
  },
  {
   "cell_type": "markdown",
   "id": "2c389d8f-c03c-4925-ad0d-204ae969b2d8",
   "metadata": {},
   "source": [
    "import scikit_build_example as bib\n",
    "import numpy as np\n",
    "\n",
    "bib.clear()\n",
    "\n",
    "bib.sin_wave(2, 4410, 3, 0.5)\n",
    "bib.generate_wave()\n",
    "bib.show_plot() #sin_wave.png"
   ]
  },
  {
   "cell_type": "markdown",
   "id": "b89c35cf-f016-4e8c-b80f-8b909f247e8e",
   "metadata": {},
   "source": [
    "4. Generowanie funkcji cosinus (amplituda, próbkowanie, czas trwania, częstotliwość)"
   ]
  },
  {
   "cell_type": "code",
   "execution_count": 3,
   "id": "8a2d6045-a5fb-4f91-9921-e51be864ace3",
   "metadata": {},
   "outputs": [],
   "source": [
    "import scikit_build_example as bib\n",
    "import numpy as np\n",
    "bib.clear()\n",
    "\n",
    "bib.cos_wave(2, 4410, 3, 0.5)\n",
    "bib.generate_wave()\n",
    "bib.show_plot() #cos_wave.png\n"
   ]
  },
  {
   "cell_type": "markdown",
   "id": "3afe5353-fce0-4648-8af2-dff3f490c77d",
   "metadata": {},
   "source": [
    "5. Generowanie przebiegu prostokątnego (amplituda, próbkowanie, czas trwania, częstotliwość)"
   ]
  },
  {
   "cell_type": "code",
   "execution_count": 8,
   "id": "4d22e487-5ac6-4c4a-b5d5-296933e0dabd",
   "metadata": {},
   "outputs": [],
   "source": [
    "import scikit_build_example as bib\n",
    "import numpy as np\n",
    "bib.clear()\n",
    "\n",
    "bib.square_wave(1, 4410, 3, 2)\n",
    "bib.generate_wave()\n",
    "bib.show_plot() #square_wave.png"
   ]
  },
  {
   "cell_type": "markdown",
   "id": "171c5b84-66e1-4729-a272-b6ff462bd77e",
   "metadata": {},
   "source": [
    "6. Generowanie przebiegu piłokształtnego  (amplituda, próbkowanie, czas trwania, częstotliwość)"
   ]
  },
  {
   "cell_type": "code",
   "execution_count": 9,
   "id": "7f71a24e-3c4a-4dbb-b54b-2e25143f11e8",
   "metadata": {},
   "outputs": [],
   "source": [
    "import scikit_build_example as bib\n",
    "import numpy as np\n",
    "bib.clear()\n",
    "\n",
    "bib.saw_wave(1, 4410, 3, 2)\n",
    "bib.generate_wave()\n",
    "bib.show_plot() #saw_wave.png"
   ]
  },
  {
   "cell_type": "markdown",
   "id": "0c3b0d98-1767-4867-ad93-a11fc50d8189",
   "metadata": {},
   "source": [
    "7. Generowanie innej funkcji"
   ]
  },
  {
   "cell_type": "code",
   "execution_count": 10,
   "id": "225952a4-f003-4036-9ae6-347a90dc5428",
   "metadata": {},
   "outputs": [],
   "source": [
    "import scikit_build_example as bib\n",
    "import numpy as np\n",
    "bib.clear()\n",
    "\n",
    "bib.function_wave(1, 4410, 3, 2)\n",
    "bib.generate_wave()\n",
    "bib.show_plot() #function_wave.png"
   ]
  },
  {
   "cell_type": "markdown",
   "id": "a961dda9-2a51-4190-8563-974d82984423",
   "metadata": {},
   "source": [
    "8. Progowanie funkcji (amplituda, próbkowanie, czas przebiegu, częstotliwość funkcji wyjściowej, próg, typ funkcji wejściowej (1-sin,2-cos,3-sqr,4-saw,5-other))"
   ]
  },
  {
   "cell_type": "code",
   "execution_count": 17,
   "id": "a773f976-4da7-4905-8e15-6d2856eb0dbb",
   "metadata": {},
   "outputs": [],
   "source": [
    "import scikit_build_example as bib\n",
    "import numpy as np\n",
    "bib.clear()\n",
    "\n",
    "bib.wave_threshold(50, 441, 2, 3, 0, 5)\n",
    "bib.generate_wave()\n",
    "bib.show_plot() #threshold.png\n"
   ]
  },
  {
   "cell_type": "code",
   "execution_count": null,
   "id": "73a05555-67a2-478c-a845-4ea001761dc0",
   "metadata": {},
   "outputs": [],
   "source": []
  },
  {
   "cell_type": "code",
   "execution_count": null,
   "id": "180b418b-ccb4-4572-ac3b-a5660e677bac",
   "metadata": {},
   "outputs": [],
   "source": []
  }
 ],
 "metadata": {
  "kernelspec": {
   "display_name": "Python 3 (ipykernel)",
   "language": "python",
   "name": "python3"
  },
  "language_info": {
   "codemirror_mode": {
    "name": "ipython",
    "version": 3
   },
   "file_extension": ".py",
   "mimetype": "text/x-python",
   "name": "python",
   "nbconvert_exporter": "python",
   "pygments_lexer": "ipython3",
   "version": "3.12.2"
  }
 },
 "nbformat": 4,
 "nbformat_minor": 5
}
