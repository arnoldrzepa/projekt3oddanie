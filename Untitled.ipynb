{
 "cells": [
  {
   "cell_type": "markdown",
   "id": "4533e7b8-40b8-4118-974a-94e00c65628d",
   "metadata": {},
   "source": [
    "<h1> Projekt 3 - Artur Rzepczyński, Michał Proc </h1>\n"
   ]
  },
  {
   "cell_type": "markdown",
   "id": "a3bc2b85-4dbf-42c2-9b1f-c969c32257b6",
   "metadata": {},
   "source": [
    "1. Wizualizacja sygnału audio"
   ]
  },
  {
   "cell_type": "code",
   "execution_count": 6,
   "id": "b06d0487-edfd-4a94-b83b-576093042ae0",
   "metadata": {},
   "outputs": [],
   "source": [
    "import scikit_build_example as bib\n",
    "import numpy as np\n",
    "\n",
    "bib.clear()\n",
    "\n",
    "bib.audio(\"G:/StudiaAcIR/pythonProject/test_short.wav\")\n",
    "# audiosygnal.png"
   ]
  },
  {
   "cell_type": "markdown",
   "id": "dcd542c5-9ed0-4151-801e-9fd4536a89f7",
   "metadata": {},
   "source": [
    "2. Filtrowanie obrazów (wymagany format .ppn)"
   ]
  },
  {
   "cell_type": "code",
   "execution_count": 13,
   "id": "ac635836-459a-4f68-9292-e39a2da1a9dc",
   "metadata": {},
   "outputs": [],
   "source": [
    "import scikit_build_example as bib\n",
    "import numpy as np\n",
    "\n",
    "kernel = np.array([ #filtr\n",
    "    [0, -1, 0],\n",
    "    [-1, 5, -1],\n",
    "    [0, -1, 0],\n",
    "], dtype=np.float32) \n",
    "\n",
    "kernel_list = kernel.tolist()\n",
    "\n",
    "bib.process(\"G:/StudiaAcIR/pythonProject/skylight.ppm\", \"G:/StudiaAcIR/pythonProject/processed.ppm\", kernel_list) # processed.ppm/processed.jpg"
   ]
  },
  {
   "cell_type": "markdown",
   "id": "77a3984a-d8e1-465c-a9b8-8764e2c48fb1",
   "metadata": {},
   "source": [
    "![processed.jpg](attachment:processed.jpg)"
   ]
  },
  {
   "cell_type": "markdown",
   "id": "7c67a3a9-2b0a-403e-9cda-f939bee6fa6d",
   "metadata": {},
   "source": [
    "3. Generowanie funkcji sinus (amplituda, próbkowanie, czas trwania, częstotliwość)"
   ]
  },
  {
   "cell_type": "code",
   "execution_count": null,
   "id": "97252b21-456f-4c45-b206-1c7f70194c1f",
   "metadata": {},
   "outputs": [],
   "source": [
    "import scikit_build_example as bib\n",
    "import numpy as np\n",
    "\n",
    "bib.clear()\n",
    "\n",
    "bib.sin_wave(2, 4410, 3, 0.5)\n",
    "bib.generate_wave()\n",
    "bib.show_plot() #sin_wave.png"
   ]
  },
  {
   "cell_type": "markdown",
   "id": "917abf43-45ff-48ab-ad76-6f7df93fac28",
   "metadata": {},
   "source": [
    "![sin_wave.png](attachment:sin_wave.png)"
   ]
  },
  {
   "cell_type": "markdown",
   "id": "b89c35cf-f016-4e8c-b80f-8b909f247e8e",
   "metadata": {},
   "source": [
    "4. Generowanie funkcji cosinus (amplituda, próbkowanie, czas trwania, częstotliwość)"
   ]
  },
  {
   "cell_type": "code",
   "execution_count": 3,
   "id": "8a2d6045-a5fb-4f91-9921-e51be864ace3",
   "metadata": {},
   "outputs": [],
   "source": [
    "import scikit_build_example as bib\n",
    "import numpy as np\n",
    "bib.clear()\n",
    "\n",
    "bib.cos_wave(2, 4410, 3, 0.5)\n",
    "bib.generate_wave()\n",
    "bib.show_plot() #cos_wave.png\n"
   ]
  },
  {
   "cell_type": "markdown",
   "id": "3b912cdc-048e-4ff0-a57c-575fbe0a950b",
   "metadata": {},
   "source": [
    "![cos_wave.png](attachment:cos_wave.png)"
   ]
  },
  {
   "cell_type": "markdown",
   "id": "3afe5353-fce0-4648-8af2-dff3f490c77d",
   "metadata": {},
   "source": [
    "5. Generowanie przebiegu prostokątnego (amplituda, próbkowanie, czas trwania, częstotliwość)"
   ]
  },
  {
   "cell_type": "code",
   "execution_count": 8,
   "id": "4d22e487-5ac6-4c4a-b5d5-296933e0dabd",
   "metadata": {},
   "outputs": [],
   "source": [
    "import scikit_build_example as bib\n",
    "import numpy as np\n",
    "bib.clear()\n",
    "\n",
    "bib.square_wave(1, 4410, 3, 2)\n",
    "bib.generate_wave()\n",
    "bib.show_plot() #square_wave.png"
   ]
  },
  {
   "cell_type": "markdown",
   "id": "2f596dc9-377f-4e0c-b156-855703e13bf0",
   "metadata": {},
   "source": [
    "![square_wave.png](attachment:square_wave.png)"
   ]
  },
  {
   "cell_type": "markdown",
   "id": "171c5b84-66e1-4729-a272-b6ff462bd77e",
   "metadata": {},
   "source": [
    "6. Generowanie przebiegu piłokształtnego  (amplituda, próbkowanie, czas trwania, częstotliwość)"
   ]
  },
  {
   "cell_type": "code",
   "execution_count": 9,
   "id": "7f71a24e-3c4a-4dbb-b54b-2e25143f11e8",
   "metadata": {},
   "outputs": [],
   "source": [
    "import scikit_build_example as bib\n",
    "import numpy as np\n",
    "bib.clear()\n",
    "\n",
    "bib.saw_wave(1, 4410, 3, 2)\n",
    "bib.generate_wave()\n",
    "bib.show_plot() #saw_wave.png"
   ]
  },
  {
   "cell_type": "markdown",
   "id": "22b18544-d631-43d3-a76c-47187c2593d1",
   "metadata": {},
   "source": [
    "![saw_wave.png](attachment:saw_wave.png)"
   ]
  },
  {
   "cell_type": "markdown",
   "id": "0c3b0d98-1767-4867-ad93-a11fc50d8189",
   "metadata": {},
   "source": [
    "7. Generowanie innej funkcji"
   ]
  },
  {
   "cell_type": "code",
   "execution_count": 10,
   "id": "225952a4-f003-4036-9ae6-347a90dc5428",
   "metadata": {},
   "outputs": [],
   "source": [
    "import scikit_build_example as bib\n",
    "import numpy as np\n",
    "bib.clear()\n",
    "\n",
    "bib.function_wave(1, 4410, 3, 2)\n",
    "bib.generate_wave()\n",
    "bib.show_plot() #function_wave.png"
   ]
  },
  {
   "cell_type": "markdown",
   "id": "3ee76411-2b26-4fc8-b689-f23ca7181b16",
   "metadata": {},
   "source": [
    "![function_wave.png](attachment:function_wave.png)"
   ]
  },
  {
   "cell_type": "markdown",
   "id": "a961dda9-2a51-4190-8563-974d82984423",
   "metadata": {},
   "source": [
    "8. Progowanie funkcji (amplituda, próbkowanie, czas przebiegu, częstotliwość funkcji wyjściowej, próg, typ funkcji wejściowej (1-sin,2-cos,3-sqr,4-saw,5-other))"
   ]
  },
  {
   "cell_type": "code",
   "execution_count": 17,
   "id": "a773f976-4da7-4905-8e15-6d2856eb0dbb",
   "metadata": {},
   "outputs": [],
   "source": [
    "import scikit_build_example as bib\n",
    "import numpy as np\n",
    "bib.clear()\n",
    "\n",
    "bib.wave_threshold(50, 441, 2, 3, 0, 5)\n",
    "bib.generate_wave()\n",
    "bib.show_plot() #threshold.png\n"
   ]
  },
  {
   "cell_type": "markdown",
   "id": "a6b53aef-baf6-4cf2-9d5d-c06d6103bf46",
   "metadata": {},
   "source": [
    "![threshold.png](attachment:threshold.png)"
   ]
  },
  {
   "cell_type": "code",
   "execution_count": null,
   "id": "180b418b-ccb4-4572-ac3b-a5660e677bac",
   "metadata": {},
   "outputs": [],
   "source": []
  }
 ],
 "metadata": {
  "kernelspec": {
   "display_name": "Python 3 (ipykernel)",
   "language": "python",
   "name": "python3"
  },
  "language_info": {
   "codemirror_mode": {
    "name": "ipython",
    "version": 3
   },
   "file_extension": ".py",
   "mimetype": "text/x-python",
   "name": "python",
   "nbconvert_exporter": "python",
   "pygments_lexer": "ipython3",
   "version": "3.12.2"
  }
 },
 "nbformat": 4,
 "nbformat_minor": 5
}
